{
 "cells": [
  {
   "cell_type": "markdown",
   "id": "passive-collect",
   "metadata": {},
   "source": [
    "# Telco Churn:"
   ]
  },
  {
   "cell_type": "markdown",
   "id": "typical-anime",
   "metadata": {},
   "source": [
    "# Goal: \n",
    "* Discover drivers of churn at the TelcoCo telecommunications firm\n",
    "* Use drivers to develop a machine learning model to predict customer churn"
   ]
  },
  {
   "cell_type": "markdown",
   "id": "recognized-insertion",
   "metadata": {},
   "source": [
    "# Imports"
   ]
  },
  {
   "cell_type": "code",
   "execution_count": 1,
   "id": "following-steam",
   "metadata": {},
   "outputs": [],
   "source": [
    "# Standard ds imports:\n",
    "import pandas as pd\n",
    "import numpy as np\n",
    "\n",
    "# Viz\n",
    "import matplotlib.pyplot as plt\n",
    "import seaborn as sns\n",
    "\n",
    "# Data Prep\n",
    "from sklearn.model_selection import train_test_split\n",
    "import sklearn.preprocessing\n",
    "\n",
    "# Statistics\n",
    "from scipy import stats\n",
    "\n",
    "# Modeling\n",
    "from sklearn.tree import DecisionTreeClassifier\n",
    "from sklearn.neighbors import KNeighborsClassifier\n",
    "from sklearn.linear_model import LogisticRegression\n",
    "\n",
    "# Model evaluation\n",
    "from sklearn.metrics import \\\n",
    "accuracy_score,\\\n",
    "recall_score,\\\n",
    "precision_score,\\\n",
    "confusion_matrix,\\\n",
    "classification_report\n",
    "\n",
    "import warnings\n",
    "warnings.filterwarnings(\"ignore\")\n",
    "\n",
    "# Custom Modules\n",
    "import os\n",
    "import env\n",
    "import acquire\n",
    "import prepare"
   ]
  },
  {
   "cell_type": "markdown",
   "id": "further-swimming",
   "metadata": {},
   "source": [
    "# Acquire\n",
    "Plan --> **Acquire** --> Prepare --> Explore --> Model --> Deliver\n",
    "\n",
    "* Data acquired from 'telco_churn'\n",
    "* It contained 7,043 rows and 24 columns before cleaning\n",
    "* Each row represents a single customer\n",
    "* Each column represents a feature the customer account"
   ]
  },
  {
   "cell_type": "markdown",
   "id": "strategic-steering",
   "metadata": {},
   "source": [
    "# Prepare\n",
    "\n",
    "**Prepare Actions:**\n",
    "* Removed columns with duplicate information\n",
    "* Checked for nulls in the data (internet_service_type) and imputed for \"No Internet Service\"\n",
    "* Changed dtype for 'total_charges' to float\n",
    "* **Added Target column 'upset' indicating weather the lower rated player won the game**\n",
    "* Reorganized 'payment_type' into values='Auto' and 'Manual'\n",
    "* Encoded categorical variables\n",
    "* Split data into train, validate and test (approx. 60/20/20), stratifying on 'churn'\n",
    "* Outliers have not been removed for this iteration of the project"
   ]
  },
  {
   "cell_type": "markdown",
   "id": "purple-plymouth",
   "metadata": {},
   "source": [
    "# Data Dictionary\n",
    "\n",
    "| Feature | Definition |\n",
    "|:--------|:-----------|\n",
    "|Rated| True or False, The game's result is reflected in each player's rating|\n",
    "|Winning Pieces| The color of pieces the winning player was moving|\n",
    "|White Rating| Rating of the player moving the white pieces using the Glicko-2 rating method for games played on Lichess|\n",
    "|Black Rating| Rating of the player moving the white pieces using the Glicko-2 rating method for games played on Lichess|\n",
    "|Rating Difference| The difference in rating between the players in the game|\n",
    "|Game Rating| The average rating of the two players in the game|\n",
    "|Lower Rated White| True or False, The lower rated player is moving the white pieces|\n",
    "|Opening Name| The name of the opening played in the game|\n",
    "|Time Control Group| The amount of time allotted to each player to make their moves, **Standard** (60 min or more), **Rapid** (30 - 15 min), **Blitz** (5 - 3 min), or **Bullet** (2 or less), **Other** (any other time limit)|\n",
    "|Upset (Target)| True or False, The lower rated player won the game|\n",
    "|Additional Features|Encoded and values for categorical data and scaled versions continuous data|\n"
   ]
  },
  {
   "cell_type": "code",
   "execution_count": 2,
   "id": "pressing-legislation",
   "metadata": {
    "scrolled": false
   },
   "outputs": [],
   "source": [
    "# acquiring data\n",
    "df = acquire.get_telco_data()\n",
    "\n",
    "# splitting data into train, validate, and test\n",
    "train, validate, test = prepare.prep_telco(df)\n"
   ]
  },
  {
   "cell_type": "markdown",
   "id": "tutorial-continuity",
   "metadata": {},
   "source": [
    "## A brief look at the data"
   ]
  },
  {
   "cell_type": "code",
   "execution_count": 3,
   "id": "clear-junior",
   "metadata": {},
   "outputs": [
    {
     "data": {
      "text/html": [
       "<div>\n",
       "<style scoped>\n",
       "    .dataframe tbody tr th:only-of-type {\n",
       "        vertical-align: middle;\n",
       "    }\n",
       "\n",
       "    .dataframe tbody tr th {\n",
       "        vertical-align: top;\n",
       "    }\n",
       "\n",
       "    .dataframe thead th {\n",
       "        text-align: right;\n",
       "    }\n",
       "</style>\n",
       "<table border=\"1\" class=\"dataframe\">\n",
       "  <thead>\n",
       "    <tr style=\"text-align: right;\">\n",
       "      <th></th>\n",
       "      <th>gender</th>\n",
       "      <th>senior_citizen</th>\n",
       "      <th>partner</th>\n",
       "      <th>dependents</th>\n",
       "      <th>tenure</th>\n",
       "      <th>phone_service</th>\n",
       "      <th>multiple_lines</th>\n",
       "      <th>online_security</th>\n",
       "      <th>online_backup</th>\n",
       "      <th>device_protection</th>\n",
       "      <th>...</th>\n",
       "      <th>tech_support_Yes</th>\n",
       "      <th>streaming_tv_No internet service</th>\n",
       "      <th>streaming_tv_Yes</th>\n",
       "      <th>streaming_movies_No internet service</th>\n",
       "      <th>streaming_movies_Yes</th>\n",
       "      <th>contract_type_One year</th>\n",
       "      <th>contract_type_Two year</th>\n",
       "      <th>internet_service_type_Fiber optic</th>\n",
       "      <th>internet_service_type_No Internet Service</th>\n",
       "      <th>mapped_payment_type_Manual</th>\n",
       "    </tr>\n",
       "  </thead>\n",
       "  <tbody>\n",
       "    <tr>\n",
       "      <th>6250</th>\n",
       "      <td>Female</td>\n",
       "      <td>0</td>\n",
       "      <td>Yes</td>\n",
       "      <td>Yes</td>\n",
       "      <td>30</td>\n",
       "      <td>Yes</td>\n",
       "      <td>No</td>\n",
       "      <td>No</td>\n",
       "      <td>No</td>\n",
       "      <td>Yes</td>\n",
       "      <td>...</td>\n",
       "      <td>1</td>\n",
       "      <td>0</td>\n",
       "      <td>1</td>\n",
       "      <td>0</td>\n",
       "      <td>0</td>\n",
       "      <td>1</td>\n",
       "      <td>0</td>\n",
       "      <td>0</td>\n",
       "      <td>0</td>\n",
       "      <td>1</td>\n",
       "    </tr>\n",
       "    <tr>\n",
       "      <th>3458</th>\n",
       "      <td>Male</td>\n",
       "      <td>0</td>\n",
       "      <td>No</td>\n",
       "      <td>No</td>\n",
       "      <td>29</td>\n",
       "      <td>Yes</td>\n",
       "      <td>Yes</td>\n",
       "      <td>No</td>\n",
       "      <td>Yes</td>\n",
       "      <td>Yes</td>\n",
       "      <td>...</td>\n",
       "      <td>0</td>\n",
       "      <td>0</td>\n",
       "      <td>0</td>\n",
       "      <td>0</td>\n",
       "      <td>1</td>\n",
       "      <td>1</td>\n",
       "      <td>0</td>\n",
       "      <td>0</td>\n",
       "      <td>0</td>\n",
       "      <td>0</td>\n",
       "    </tr>\n",
       "    <tr>\n",
       "      <th>5970</th>\n",
       "      <td>Male</td>\n",
       "      <td>0</td>\n",
       "      <td>No</td>\n",
       "      <td>No</td>\n",
       "      <td>2</td>\n",
       "      <td>Yes</td>\n",
       "      <td>No</td>\n",
       "      <td>No</td>\n",
       "      <td>Yes</td>\n",
       "      <td>No</td>\n",
       "      <td>...</td>\n",
       "      <td>0</td>\n",
       "      <td>0</td>\n",
       "      <td>1</td>\n",
       "      <td>0</td>\n",
       "      <td>1</td>\n",
       "      <td>0</td>\n",
       "      <td>0</td>\n",
       "      <td>1</td>\n",
       "      <td>0</td>\n",
       "      <td>1</td>\n",
       "    </tr>\n",
       "    <tr>\n",
       "      <th>5861</th>\n",
       "      <td>Female</td>\n",
       "      <td>0</td>\n",
       "      <td>Yes</td>\n",
       "      <td>No</td>\n",
       "      <td>72</td>\n",
       "      <td>Yes</td>\n",
       "      <td>Yes</td>\n",
       "      <td>No internet service</td>\n",
       "      <td>No internet service</td>\n",
       "      <td>No internet service</td>\n",
       "      <td>...</td>\n",
       "      <td>0</td>\n",
       "      <td>1</td>\n",
       "      <td>0</td>\n",
       "      <td>1</td>\n",
       "      <td>0</td>\n",
       "      <td>0</td>\n",
       "      <td>1</td>\n",
       "      <td>0</td>\n",
       "      <td>1</td>\n",
       "      <td>0</td>\n",
       "    </tr>\n",
       "    <tr>\n",
       "      <th>343</th>\n",
       "      <td>Female</td>\n",
       "      <td>0</td>\n",
       "      <td>Yes</td>\n",
       "      <td>Yes</td>\n",
       "      <td>57</td>\n",
       "      <td>Yes</td>\n",
       "      <td>No</td>\n",
       "      <td>No internet service</td>\n",
       "      <td>No internet service</td>\n",
       "      <td>No internet service</td>\n",
       "      <td>...</td>\n",
       "      <td>0</td>\n",
       "      <td>1</td>\n",
       "      <td>0</td>\n",
       "      <td>1</td>\n",
       "      <td>0</td>\n",
       "      <td>0</td>\n",
       "      <td>1</td>\n",
       "      <td>0</td>\n",
       "      <td>1</td>\n",
       "      <td>0</td>\n",
       "    </tr>\n",
       "  </tbody>\n",
       "</table>\n",
       "<p>5 rows × 45 columns</p>\n",
       "</div>"
      ],
      "text/plain": [
       "      gender  senior_citizen partner dependents  tenure phone_service  \\\n",
       "6250  Female               0     Yes        Yes      30           Yes   \n",
       "3458    Male               0      No         No      29           Yes   \n",
       "5970    Male               0      No         No       2           Yes   \n",
       "5861  Female               0     Yes         No      72           Yes   \n",
       "343   Female               0     Yes        Yes      57           Yes   \n",
       "\n",
       "     multiple_lines      online_security        online_backup  \\\n",
       "6250             No                   No                   No   \n",
       "3458            Yes                   No                  Yes   \n",
       "5970             No                   No                  Yes   \n",
       "5861            Yes  No internet service  No internet service   \n",
       "343              No  No internet service  No internet service   \n",
       "\n",
       "        device_protection  ... tech_support_Yes  \\\n",
       "6250                  Yes  ...                1   \n",
       "3458                  Yes  ...                0   \n",
       "5970                   No  ...                0   \n",
       "5861  No internet service  ...                0   \n",
       "343   No internet service  ...                0   \n",
       "\n",
       "     streaming_tv_No internet service streaming_tv_Yes  \\\n",
       "6250                                0                1   \n",
       "3458                                0                0   \n",
       "5970                                0                1   \n",
       "5861                                1                0   \n",
       "343                                 1                0   \n",
       "\n",
       "     streaming_movies_No internet service  streaming_movies_Yes  \\\n",
       "6250                                    0                     0   \n",
       "3458                                    0                     1   \n",
       "5970                                    0                     1   \n",
       "5861                                    1                     0   \n",
       "343                                     1                     0   \n",
       "\n",
       "      contract_type_One year contract_type_Two year  \\\n",
       "6250                       1                      0   \n",
       "3458                       1                      0   \n",
       "5970                       0                      0   \n",
       "5861                       0                      1   \n",
       "343                        0                      1   \n",
       "\n",
       "     internet_service_type_Fiber optic  \\\n",
       "6250                                 0   \n",
       "3458                                 0   \n",
       "5970                                 1   \n",
       "5861                                 0   \n",
       "343                                  0   \n",
       "\n",
       "     internet_service_type_No Internet Service mapped_payment_type_Manual  \n",
       "6250                                         0                          1  \n",
       "3458                                         0                          0  \n",
       "5970                                         0                          1  \n",
       "5861                                         1                          0  \n",
       "343                                          1                          0  \n",
       "\n",
       "[5 rows x 45 columns]"
      ]
     },
     "execution_count": 3,
     "metadata": {},
     "output_type": "execute_result"
    }
   ],
   "source": [
    "train.head()"
   ]
  },
  {
   "cell_type": "markdown",
   "id": "mature-partition",
   "metadata": {},
   "source": [
    "## A summery of the data"
   ]
  },
  {
   "cell_type": "code",
   "execution_count": 4,
   "id": "alien-topic",
   "metadata": {},
   "outputs": [
    {
     "data": {
      "text/html": [
       "<div>\n",
       "<style scoped>\n",
       "    .dataframe tbody tr th:only-of-type {\n",
       "        vertical-align: middle;\n",
       "    }\n",
       "\n",
       "    .dataframe tbody tr th {\n",
       "        vertical-align: top;\n",
       "    }\n",
       "\n",
       "    .dataframe thead th {\n",
       "        text-align: right;\n",
       "    }\n",
       "</style>\n",
       "<table border=\"1\" class=\"dataframe\">\n",
       "  <thead>\n",
       "    <tr style=\"text-align: right;\">\n",
       "      <th></th>\n",
       "      <th>senior_citizen</th>\n",
       "      <th>tenure</th>\n",
       "      <th>monthly_charges</th>\n",
       "      <th>total_charges</th>\n",
       "      <th>gender_encoded</th>\n",
       "      <th>partner_encoded</th>\n",
       "      <th>dependents_encoded</th>\n",
       "      <th>phone_service_encoded</th>\n",
       "      <th>paperless_billing_encoded</th>\n",
       "      <th>churn_encoded</th>\n",
       "      <th>...</th>\n",
       "      <th>tech_support_Yes</th>\n",
       "      <th>streaming_tv_No internet service</th>\n",
       "      <th>streaming_tv_Yes</th>\n",
       "      <th>streaming_movies_No internet service</th>\n",
       "      <th>streaming_movies_Yes</th>\n",
       "      <th>contract_type_One year</th>\n",
       "      <th>contract_type_Two year</th>\n",
       "      <th>internet_service_type_Fiber optic</th>\n",
       "      <th>internet_service_type_No Internet Service</th>\n",
       "      <th>mapped_payment_type_Manual</th>\n",
       "    </tr>\n",
       "  </thead>\n",
       "  <tbody>\n",
       "    <tr>\n",
       "      <th>count</th>\n",
       "      <td>4225.000000</td>\n",
       "      <td>4225.000000</td>\n",
       "      <td>4225.000000</td>\n",
       "      <td>4225.000000</td>\n",
       "      <td>4225.000000</td>\n",
       "      <td>4225.000000</td>\n",
       "      <td>4225.000000</td>\n",
       "      <td>4225.000000</td>\n",
       "      <td>4225.000000</td>\n",
       "      <td>4225.000000</td>\n",
       "      <td>...</td>\n",
       "      <td>4225.000000</td>\n",
       "      <td>4225.000000</td>\n",
       "      <td>4225.000000</td>\n",
       "      <td>4225.000000</td>\n",
       "      <td>4225.000000</td>\n",
       "      <td>4225.000000</td>\n",
       "      <td>4225.000000</td>\n",
       "      <td>4225.000000</td>\n",
       "      <td>4225.000000</td>\n",
       "      <td>4225.000000</td>\n",
       "    </tr>\n",
       "    <tr>\n",
       "      <th>mean</th>\n",
       "      <td>0.155740</td>\n",
       "      <td>31.981302</td>\n",
       "      <td>64.567586</td>\n",
       "      <td>2245.585006</td>\n",
       "      <td>0.488757</td>\n",
       "      <td>0.482367</td>\n",
       "      <td>0.299408</td>\n",
       "      <td>0.905089</td>\n",
       "      <td>0.583195</td>\n",
       "      <td>0.265325</td>\n",
       "      <td>...</td>\n",
       "      <td>0.286391</td>\n",
       "      <td>0.215621</td>\n",
       "      <td>0.376331</td>\n",
       "      <td>0.215621</td>\n",
       "      <td>0.385089</td>\n",
       "      <td>0.208757</td>\n",
       "      <td>0.239053</td>\n",
       "      <td>0.436923</td>\n",
       "      <td>0.215621</td>\n",
       "      <td>0.570178</td>\n",
       "    </tr>\n",
       "    <tr>\n",
       "      <th>std</th>\n",
       "      <td>0.362651</td>\n",
       "      <td>24.472569</td>\n",
       "      <td>29.927321</td>\n",
       "      <td>2252.030630</td>\n",
       "      <td>0.499933</td>\n",
       "      <td>0.499748</td>\n",
       "      <td>0.458053</td>\n",
       "      <td>0.293127</td>\n",
       "      <td>0.493088</td>\n",
       "      <td>0.441559</td>\n",
       "      <td>...</td>\n",
       "      <td>0.452128</td>\n",
       "      <td>0.411301</td>\n",
       "      <td>0.484522</td>\n",
       "      <td>0.411301</td>\n",
       "      <td>0.486674</td>\n",
       "      <td>0.406469</td>\n",
       "      <td>0.426556</td>\n",
       "      <td>0.496064</td>\n",
       "      <td>0.411301</td>\n",
       "      <td>0.495109</td>\n",
       "    </tr>\n",
       "    <tr>\n",
       "      <th>min</th>\n",
       "      <td>0.000000</td>\n",
       "      <td>0.000000</td>\n",
       "      <td>18.550000</td>\n",
       "      <td>0.000000</td>\n",
       "      <td>0.000000</td>\n",
       "      <td>0.000000</td>\n",
       "      <td>0.000000</td>\n",
       "      <td>0.000000</td>\n",
       "      <td>0.000000</td>\n",
       "      <td>0.000000</td>\n",
       "      <td>...</td>\n",
       "      <td>0.000000</td>\n",
       "      <td>0.000000</td>\n",
       "      <td>0.000000</td>\n",
       "      <td>0.000000</td>\n",
       "      <td>0.000000</td>\n",
       "      <td>0.000000</td>\n",
       "      <td>0.000000</td>\n",
       "      <td>0.000000</td>\n",
       "      <td>0.000000</td>\n",
       "      <td>0.000000</td>\n",
       "    </tr>\n",
       "    <tr>\n",
       "      <th>25%</th>\n",
       "      <td>0.000000</td>\n",
       "      <td>8.000000</td>\n",
       "      <td>35.800000</td>\n",
       "      <td>390.400000</td>\n",
       "      <td>0.000000</td>\n",
       "      <td>0.000000</td>\n",
       "      <td>0.000000</td>\n",
       "      <td>1.000000</td>\n",
       "      <td>0.000000</td>\n",
       "      <td>0.000000</td>\n",
       "      <td>...</td>\n",
       "      <td>0.000000</td>\n",
       "      <td>0.000000</td>\n",
       "      <td>0.000000</td>\n",
       "      <td>0.000000</td>\n",
       "      <td>0.000000</td>\n",
       "      <td>0.000000</td>\n",
       "      <td>0.000000</td>\n",
       "      <td>0.000000</td>\n",
       "      <td>0.000000</td>\n",
       "      <td>0.000000</td>\n",
       "    </tr>\n",
       "    <tr>\n",
       "      <th>50%</th>\n",
       "      <td>0.000000</td>\n",
       "      <td>28.000000</td>\n",
       "      <td>70.100000</td>\n",
       "      <td>1357.100000</td>\n",
       "      <td>0.000000</td>\n",
       "      <td>0.000000</td>\n",
       "      <td>0.000000</td>\n",
       "      <td>1.000000</td>\n",
       "      <td>1.000000</td>\n",
       "      <td>0.000000</td>\n",
       "      <td>...</td>\n",
       "      <td>0.000000</td>\n",
       "      <td>0.000000</td>\n",
       "      <td>0.000000</td>\n",
       "      <td>0.000000</td>\n",
       "      <td>0.000000</td>\n",
       "      <td>0.000000</td>\n",
       "      <td>0.000000</td>\n",
       "      <td>0.000000</td>\n",
       "      <td>0.000000</td>\n",
       "      <td>1.000000</td>\n",
       "    </tr>\n",
       "    <tr>\n",
       "      <th>75%</th>\n",
       "      <td>0.000000</td>\n",
       "      <td>55.000000</td>\n",
       "      <td>89.750000</td>\n",
       "      <td>3715.650000</td>\n",
       "      <td>1.000000</td>\n",
       "      <td>1.000000</td>\n",
       "      <td>1.000000</td>\n",
       "      <td>1.000000</td>\n",
       "      <td>1.000000</td>\n",
       "      <td>1.000000</td>\n",
       "      <td>...</td>\n",
       "      <td>1.000000</td>\n",
       "      <td>0.000000</td>\n",
       "      <td>1.000000</td>\n",
       "      <td>0.000000</td>\n",
       "      <td>1.000000</td>\n",
       "      <td>0.000000</td>\n",
       "      <td>0.000000</td>\n",
       "      <td>1.000000</td>\n",
       "      <td>0.000000</td>\n",
       "      <td>1.000000</td>\n",
       "    </tr>\n",
       "    <tr>\n",
       "      <th>max</th>\n",
       "      <td>1.000000</td>\n",
       "      <td>72.000000</td>\n",
       "      <td>118.600000</td>\n",
       "      <td>8670.100000</td>\n",
       "      <td>1.000000</td>\n",
       "      <td>1.000000</td>\n",
       "      <td>1.000000</td>\n",
       "      <td>1.000000</td>\n",
       "      <td>1.000000</td>\n",
       "      <td>1.000000</td>\n",
       "      <td>...</td>\n",
       "      <td>1.000000</td>\n",
       "      <td>1.000000</td>\n",
       "      <td>1.000000</td>\n",
       "      <td>1.000000</td>\n",
       "      <td>1.000000</td>\n",
       "      <td>1.000000</td>\n",
       "      <td>1.000000</td>\n",
       "      <td>1.000000</td>\n",
       "      <td>1.000000</td>\n",
       "      <td>1.000000</td>\n",
       "    </tr>\n",
       "  </tbody>\n",
       "</table>\n",
       "<p>8 rows × 29 columns</p>\n",
       "</div>"
      ],
      "text/plain": [
       "       senior_citizen       tenure  monthly_charges  total_charges  \\\n",
       "count     4225.000000  4225.000000      4225.000000    4225.000000   \n",
       "mean         0.155740    31.981302        64.567586    2245.585006   \n",
       "std          0.362651    24.472569        29.927321    2252.030630   \n",
       "min          0.000000     0.000000        18.550000       0.000000   \n",
       "25%          0.000000     8.000000        35.800000     390.400000   \n",
       "50%          0.000000    28.000000        70.100000    1357.100000   \n",
       "75%          0.000000    55.000000        89.750000    3715.650000   \n",
       "max          1.000000    72.000000       118.600000    8670.100000   \n",
       "\n",
       "       gender_encoded  partner_encoded  dependents_encoded  \\\n",
       "count     4225.000000      4225.000000         4225.000000   \n",
       "mean         0.488757         0.482367            0.299408   \n",
       "std          0.499933         0.499748            0.458053   \n",
       "min          0.000000         0.000000            0.000000   \n",
       "25%          0.000000         0.000000            0.000000   \n",
       "50%          0.000000         0.000000            0.000000   \n",
       "75%          1.000000         1.000000            1.000000   \n",
       "max          1.000000         1.000000            1.000000   \n",
       "\n",
       "       phone_service_encoded  paperless_billing_encoded  churn_encoded  ...  \\\n",
       "count            4225.000000                4225.000000    4225.000000  ...   \n",
       "mean                0.905089                   0.583195       0.265325  ...   \n",
       "std                 0.293127                   0.493088       0.441559  ...   \n",
       "min                 0.000000                   0.000000       0.000000  ...   \n",
       "25%                 1.000000                   0.000000       0.000000  ...   \n",
       "50%                 1.000000                   1.000000       0.000000  ...   \n",
       "75%                 1.000000                   1.000000       1.000000  ...   \n",
       "max                 1.000000                   1.000000       1.000000  ...   \n",
       "\n",
       "       tech_support_Yes  streaming_tv_No internet service  streaming_tv_Yes  \\\n",
       "count       4225.000000                       4225.000000       4225.000000   \n",
       "mean           0.286391                          0.215621          0.376331   \n",
       "std            0.452128                          0.411301          0.484522   \n",
       "min            0.000000                          0.000000          0.000000   \n",
       "25%            0.000000                          0.000000          0.000000   \n",
       "50%            0.000000                          0.000000          0.000000   \n",
       "75%            1.000000                          0.000000          1.000000   \n",
       "max            1.000000                          1.000000          1.000000   \n",
       "\n",
       "       streaming_movies_No internet service  streaming_movies_Yes  \\\n",
       "count                           4225.000000           4225.000000   \n",
       "mean                               0.215621              0.385089   \n",
       "std                                0.411301              0.486674   \n",
       "min                                0.000000              0.000000   \n",
       "25%                                0.000000              0.000000   \n",
       "50%                                0.000000              0.000000   \n",
       "75%                                0.000000              1.000000   \n",
       "max                                1.000000              1.000000   \n",
       "\n",
       "       contract_type_One year  contract_type_Two year  \\\n",
       "count             4225.000000             4225.000000   \n",
       "mean                 0.208757                0.239053   \n",
       "std                  0.406469                0.426556   \n",
       "min                  0.000000                0.000000   \n",
       "25%                  0.000000                0.000000   \n",
       "50%                  0.000000                0.000000   \n",
       "75%                  0.000000                0.000000   \n",
       "max                  1.000000                1.000000   \n",
       "\n",
       "       internet_service_type_Fiber optic  \\\n",
       "count                        4225.000000   \n",
       "mean                            0.436923   \n",
       "std                             0.496064   \n",
       "min                             0.000000   \n",
       "25%                             0.000000   \n",
       "50%                             0.000000   \n",
       "75%                             1.000000   \n",
       "max                             1.000000   \n",
       "\n",
       "       internet_service_type_No Internet Service  mapped_payment_type_Manual  \n",
       "count                                4225.000000                 4225.000000  \n",
       "mean                                    0.215621                    0.570178  \n",
       "std                                     0.411301                    0.495109  \n",
       "min                                     0.000000                    0.000000  \n",
       "25%                                     0.000000                    0.000000  \n",
       "50%                                     0.000000                    1.000000  \n",
       "75%                                     0.000000                    1.000000  \n",
       "max                                     1.000000                    1.000000  \n",
       "\n",
       "[8 rows x 29 columns]"
      ]
     },
     "execution_count": 4,
     "metadata": {},
     "output_type": "execute_result"
    }
   ],
   "source": [
    "train.describe()"
   ]
  },
  {
   "cell_type": "markdown",
   "id": "local-paper",
   "metadata": {},
   "source": [
    "# Explore\n",
    "Plan --> Acquire --> Prepare --> **Explore** --> Model --> Deliver"
   ]
  },
  {
   "cell_type": "markdown",
   "id": "wound-gothic",
   "metadata": {},
   "source": [
    "## Are monthly charges higher for customers who churn?"
   ]
  },
  {
   "cell_type": "code",
   "execution_count": 6,
   "id": "cordless-environment",
   "metadata": {
    "scrolled": false
   },
   "outputs": [
    {
     "data": {
      "image/png": "[encoded data removed]",
      "text/plain": [
       "<Figure size 640x480 with 1 Axes>"
      ]
     },
     "metadata": {},
     "output_type": "display_data"
    }
   ],
   "source": [
    "# Swarm Plot of Churn by Monthly Charges\n",
    "# Create a swarm plot\n",
    "target = 'churn'\n",
    "sns.set(style=\"whitegrid\")  # Set the style of the plot\n",
    "sns.swarmplot(y='monthly_charges', x=target, data=train)\n",
    "\n",
    "# Add labels and title\n",
    "plt.ylabel('monthly_charges')\n",
    "plt.xlabel(target)\n",
    "plt.title('Swarm Plot of Churn by Monthly Charges')\n",
    "\n",
    "# Show the plot\n",
    "plt.show()"
   ]
  },
  {
   "cell_type": "markdown",
   "id": "geographic-nursing",
   "metadata": {},
   "source": [
    "* It looks like there is a higher concentration of churned customers when monthly charges exceed ~$70. "
   ]
  },
  {
   "cell_type": "markdown",
   "id": "modern-wilderness",
   "metadata": {},
   "source": [
    "**I will now use a 1 sample, 1 tail, T-test to investigate whether the mean of monthly charges of churned customers is significantly larger than the mean monthly charges for all customers.** \n",
    "\n",
    "* I will use a confidence interval of 95% \n",
    "* The resulting alpha is .05<br>\n",
    "\n",
    "**H0: Mean of monthly charges of churned customers <= Mean of monthly charges of all customers.**<br>\n",
    "**Ha: Mean of monthly charges of churned customers > Mean of monthly charges of all customers.**"
   ]
  },
  {
   "cell_type": "code",
   "execution_count": 8,
   "id": "presidential-guarantee",
   "metadata": {},
   "outputs": [
    {
     "name": "stdout",
     "output_type": "stream",
     "text": [
      "12.86165366693209 1.0358740694591168e-35 0.05\n",
      "We reject the null hypothesis.\n"
     ]
    }
   ],
   "source": [
    "alpha = 0.05\n",
    "# an array of all observed values of the subgroup\n",
    "churn_sample = train[train.churn == 'Yes'].monthly_charges\n",
    "\n",
    "# the population mean\n",
    "overall_mean = train.monthly_charges.mean()\n",
    "\n",
    "t, p = stats.ttest_1samp(churn_sample, overall_mean)\n",
    "\n",
    "print(t, p/2, alpha)\n",
    "\n",
    "if p/2 > alpha:\n",
    "    print(\"We fail to reject the null hypothesis.\")\n",
    "elif t < 0:\n",
    "    print(\"We fail to reject null hypothesis.\")\n",
    "else:\n",
    "    print(\"We reject the null hypothesis.\")"
   ]
  },
  {
   "cell_type": "markdown",
   "id": "cognitive-brook",
   "metadata": {},
   "source": [
    "**The alpha is less than p/2. Therefore, we have evidence to support that \"Monthly Charges\" and \"Churn\" are related. We will use monthly charges as a feature of our models.**"
   ]
  },
  {
   "cell_type": "markdown",
   "id": "environmental-longitude",
   "metadata": {},
   "source": [
    "## Is customer churn depedent on internet service type?"
   ]
  },
  {
   "cell_type": "code",
   "execution_count": 9,
   "id": "informed-encyclopedia",
   "metadata": {
    "scrolled": false
   },
   "outputs": [
    {
     "data": {
      "image/png": "[encoded data removed]",
      "text/plain": [
       "<Figure size 640x480 with 1 Axes>"
      ]
     },
     "metadata": {},
     "output_type": "display_data"
    },
    {
     "data": {
      "image/png": "[encoded data removed]",
      "text/plain": [
       "<Figure size 640x480 with 1 Axes>"
      ]
     },
     "metadata": {},
     "output_type": "display_data"
    }
   ],
   "source": [
    "## Viz 1:\n",
    "sns.set(style=\"whitegrid\")\n",
    "data = train\n",
    "sns.countplot(x=\"internet_service_type\", hue=\"churn\", data=data)\n",
    "plt.title(\"Churn Count by Internet Service Type\")\n",
    "plt.show()\n",
    "\n",
    "## Viz 2:\n",
    "# Calculate the percentages within each internet_service_type category\n",
    "percentage_data = data.groupby('internet_service_type')['churn'].value_counts(normalize=True).unstack() * 100\n",
    "\n",
    "# Set the style\n",
    "sns.set(style=\"whitegrid\")\n",
    "\n",
    "# Create the bar plot\n",
    "ax = percentage_data.plot(kind='bar', stacked=True)\n",
    "\n",
    "# Set labels and title\n",
    "plt.xlabel(\"Internet Service Type\")\n",
    "plt.ylabel(\"Percentage of Observations\")\n",
    "plt.title(\"Churn Percentage by Internet Service Type\")\n",
    "\n",
    "# Annotate with percentage values\n",
    "for p in ax.patches:\n",
    "    ax.annotate(f'{p.get_height():.2f}%', (p.get_x() + p.get_width() / 2., p.get_height()), ha='center', va='center', fontsize=8, color='gray', rotation=0, xytext=(0, 5), textcoords='offset points')\n",
    "\n",
    "# Show the plot\n",
    "plt.legend(title='churn', loc='upper right')\n",
    "plt.show()"
   ]
  },
  {
   "cell_type": "markdown",
   "id": "going-bulgaria",
   "metadata": {},
   "source": [
    "* Fiber Optic has the highest rate of churn with 42.04% of customers churning, while customers that have only phone service have the lowest rate of churn (7.46%)."
   ]
  },
  {
   "cell_type": "markdown",
   "id": "third-presence",
   "metadata": {},
   "source": [
    "**I will now use a chi-square test to investigate weather \"Internet Service Type\" and \"Churn\" are related.**\n",
    "* I will use a confidence interval of 95% \n",
    "* The resulting alpha is .05<br>\n",
    "\n",
    "**H0: Customer churn rate is independent of the internet service type.** <br>\n",
    "**Ha: Customer churn rate has a dependent relationship to internet service type.**"
   ]
  },
  {
   "cell_type": "code",
   "execution_count": 13,
   "id": "dangerous-groove",
   "metadata": {},
   "outputs": [
    {
     "name": "stdout",
     "output_type": "stream",
     "text": [
      "p-value: 1.1586538084825805e-96\n",
      "We reject the null hypothesis.\n",
      "There exists some relationship between Internet Service Type and the churn.\n"
     ]
    }
   ],
   "source": [
    "observed = pd.crosstab(train['internet_service_type'], train['churn'])\n",
    "chi2, p, degf, expected = stats.chi2_contingency(observed)\n",
    "if p < alpha:\n",
    "    print(f'p-value: {p}')\n",
    "    print(f'We reject the null hypothesis.')\n",
    "    print(f'There exists some relationship between Internet Service Type and the churn.')\n",
    "else:\n",
    "    print(f'p-value: {p}')\n",
    "    print(f'We fail to reject the null hypothesis.')\n",
    "    print(f'There is not a significant relationship between Internet Service Type and churn.')"
   ]
  },
  {
   "cell_type": "markdown",
   "id": "fuzzy-tsunami",
   "metadata": {},
   "source": [
    "**The p-value is less than the alpha. Therefore, we have evidence to support that \"Internet Service Type\" and \"Churn\" are related. I believe that using the \"Internet Service Type\" feature in modeling will likely have a positive impact on the model's accuracy.**"
   ]
  },
  {
   "cell_type": "markdown",
   "id": "1688140f",
   "metadata": {},
   "source": [
    "## Is whethere or not a customer churns independent of if they have automatic or manual payments?"
   ]
  },
  {
   "cell_type": "code",
   "execution_count": 17,
   "id": "5097ce79",
   "metadata": {},
   "outputs": [
    {
     "data": {
      "image/png": "[encoded data removed]",
      "text/plain": [
       "<Figure size 640x480 with 1 Axes>"
      ]
     },
     "metadata": {},
     "output_type": "display_data"
    }
   ],
   "source": [
    "sns.set(style=\"whitegrid\")\n",
    "data = train\n",
    "sns.countplot(x=\"mapped_payment_type\", hue=\"churn\", data=data)\n",
    "plt.title(\"Churn Count by Payment_type Type\")\n",
    "plt.show()"
   ]
  },
  {
   "cell_type": "markdown",
   "id": "e648d2bc",
   "metadata": {},
   "source": [
    "* It looks like customers with manual payments churn more often than those with automatic."
   ]
  },
  {
   "cell_type": "markdown",
   "id": "be75cac2",
   "metadata": {},
   "source": [
    "**I will now do a chi-square test to test for independence between payment type and Churn.**\n",
    "\n",
    "* I will use a confidence interval of 95%\n",
    "* The resulting alpha is .05\n",
    "\n",
    "**H0: Customer churn rate is independent of the payment type.** <br>\n",
    "**Ha: Customer churn rate has a dependent relationship to payment type.**"
   ]
  },
  {
   "cell_type": "code",
   "execution_count": 18,
   "id": "447cdc0b",
   "metadata": {},
   "outputs": [
    {
     "name": "stdout",
     "output_type": "stream",
     "text": [
      "p-value: 1.1586538084825805e-96\n",
      "We reject the null hypothesis.\n",
      "There exists some relationship between payment type and churn.\n"
     ]
    }
   ],
   "source": [
    "observed = pd.crosstab(train['internet_service_type'], train['churn'])\n",
    "chi2, p, degf, expected = stats.chi2_contingency(observed)\n",
    "if p < alpha:\n",
    "    print(f'p-value: {p}')\n",
    "    print(f'We reject the null hypothesis.')\n",
    "    print(f'There exists some relationship between payment type and churn.')\n",
    "else:\n",
    "    print(f'p-value: {p}')\n",
    "    print(f'We fail to reject the null hypothesis.')\n",
    "    print(f'There is not a significant relationship between payment type and churn.')"
   ]
  },
  {
   "cell_type": "markdown",
   "id": "agreed-finance",
   "metadata": {},
   "source": [
    "## For fiber optic customers does the addition of tech support change churn rate?\n"
   ]
  },
  {
   "cell_type": "code",
   "execution_count": 15,
   "id": "limiting-ozone",
   "metadata": {},
   "outputs": [
    {
     "data": {
      "image/png": "[encoded data removed]",
      "text/plain": [
       "<Figure size 640x480 with 1 Axes>"
      ]
     },
     "metadata": {},
     "output_type": "display_data"
    }
   ],
   "source": [
    "fiber_subset = train[train['internet_service_type'] == 'Fiber optic']\n",
    "\n",
    "sns.countplot(x=\"tech_support\", hue=\"churn\", data=fiber_subset)\n",
    "plt.title(\"Churn Count by Internet Service Type\")\n",
    "plt.show()"
   ]
  },
  {
   "cell_type": "markdown",
   "id": "hispanic-publicity",
   "metadata": {},
   "source": [
    "* Fiber optic customers without tech support churn roughly half the time. However, for Fiber optic customers with tech support only about 1/4 churn."
   ]
  },
  {
   "cell_type": "markdown",
   "id": "incomplete-sentence",
   "metadata": {},
   "source": [
    "**I will now do a chi-square test to test for independence between tech support and churn for fiber optic customers.**\n",
    "\n",
    "* I will use a confidence interval of 95%\n",
    "* The resulting alpha is .05\n",
    "\n",
    "**H0: Fiber optic customer churn is independent on tech support.** <br>\n",
    "**Ha: Fiber optic customer churn is dependent on tech support.**"
   ]
  },
  {
   "cell_type": "code",
   "execution_count": 16,
   "id": "national-computer",
   "metadata": {},
   "outputs": [
    {
     "name": "stdout",
     "output_type": "stream",
     "text": [
      "p-value: 6.625286470594788e-24\n",
      "We reject the null hypothesis.\n",
      "There exists some relationship between tech support and the churn.\n"
     ]
    }
   ],
   "source": [
    "observed = pd.crosstab(fiber_subset.churn, fiber_subset.tech_support)\n",
    "chi2, p, degf, expected = stats.chi2_contingency(observed)\n",
    "if p < alpha:\n",
    "    print(f'p-value: {p}')\n",
    "    print(f'We reject the null hypothesis.')\n",
    "    print(f'There exists some relationship between tech support and the churn.')\n",
    "else:\n",
    "    print(f'p-value: {p}')\n",
    "    print(f'We fail to reject the null hypothesis.')\n",
    "    print(f'There is not a significant relationship between tech support and churn.')"
   ]
  },
  {
   "cell_type": "markdown",
   "id": "nervous-hammer",
   "metadata": {},
   "source": [
    "**The p-value is less than the alpha. Therefore, we have evidence to support that churn rate for Fiber optic customers with tech support is significantly different than the churn rate for Fiber optic customers without tech support. Based on this, I believe that using \"tech support\" during modeling will provide an improvement in the model's accuracy.** "
   ]
  },
  {
   "cell_type": "markdown",
   "id": "still-industry",
   "metadata": {},
   "source": [
    "# Exploration Summary\n",
    "\n",
    "* \"Monthly Charges\" and \"Internet Service Type\" were each found to be drivers of \"Churn\"\n",
    "    * Likely a moderate/strong relation ship to each\n",
    "* \"Payment Type\" was found to be a driver of \"Churn\"\n",
    "* \"Tech Support\" was found to be a driver of \"Churn\" \n",
    "    * Tech Support was only analyzed on customers with Fiber Optic as Fiber Optic had the largest percentage of \"Churn\"\n",
    "<br>\n",
    "\n",
    "# Features I am moving to modeling With\n",
    "* \"Monthly Charges\"\n",
    "* \"Internet Service Type\" \n",
    "* \"Payment Type\"\n",
    "* \"Tech Support\"\n",
    "\n",
    "# Features I'm not moving to modeling with\n",
    "* "
   ]
  },
  {
   "cell_type": "code",
   "execution_count": 25,
   "id": "93064b29",
   "metadata": {},
   "outputs": [],
   "source": [
    "features1 = ['monthly_charges',\n",
    "       'tech_support_No internet service', 'tech_support_Yes',\n",
    "       'internet_service_type_Fiber optic',\n",
    "       'internet_service_type_No Internet Service',\n",
    "       'mapped_payment_type_Manual']"
   ]
  },
  {
   "cell_type": "markdown",
   "id": "sonic-halifax",
   "metadata": {},
   "source": [
    "# Modeling\n",
    "Plan --> Acquire --> Prepare --> Explore --> **Model** --> Deliver\n",
    "* I will use accuracy as my evaluation metric  \n",
    "* non-churns makeup 73.47% of the training data \n",
    " <br>\n",
    "* by guessing \"No\" for 'churn' for every customer one could achieve an accuracy of 73.47%\n",
    "* 73.47%% will be the baseline accuracy I use for this project\n",
    " <br>\n",
    "* I will be evaluating models developed using three different model types and various hyperparameter configurations \n",
    "* Models will be evaluated on train and validate data\n",
    "* The model that performs the best will then be evaluated on test data "
   ]
  },
  {
   "cell_type": "code",
   "execution_count": 26,
   "id": "varied-grant",
   "metadata": {},
   "outputs": [],
   "source": [
    "# prep data for modeling\n",
    "X_train, y_train = \\\n",
    "train[features1], \\\n",
    "train[target]\n",
    "\n",
    "X_validate, y_validate = \\\n",
    "validate[features1], \\\n",
    "validate[target]\n",
    "\n",
    "X_test, y_test = \\\n",
    "test[features1], \\\n",
    "test[target]"
   ]
  },
  {
   "cell_type": "markdown",
   "id": "median-ceramic",
   "metadata": {},
   "source": [
    "## Decision Tree"
   ]
  },
  {
   "cell_type": "code",
   "execution_count": 31,
   "id": "sacred-bracelet",
   "metadata": {},
   "outputs": [],
   "source": [
    "def get_tree(X_train, X_validate, y_train, y_validate):\n",
    "    '''get decision tree accuracy on train and validate data'''\n",
    "\n",
    "    # create classifier object\n",
    "    clf = DecisionTreeClassifier(max_depth=5, random_state=666)\n",
    "\n",
    "    #fit model on training data\n",
    "    clf = clf.fit(X_train, y_train)\n",
    "\n",
    "    # print result\n",
    "    print(f\"Accuracy of Decision Tree on train data is {clf.score(X_train, y_train)}\")\n",
    "    print(f\"Accuracy of Decision Tree on validate data is {clf.score(X_validate, y_validate)}\")"
   ]
  },
  {
   "cell_type": "code",
   "execution_count": 30,
   "id": "56a823d4",
   "metadata": {},
   "outputs": [
    {
     "name": "stdout",
     "output_type": "stream",
     "text": [
      "Accuracy of Decision Tree on train data is 0.7685207100591716\n",
      "Accuracy of Decision Tree on validate data is 0.7565649396735273\n"
     ]
    }
   ],
   "source": [
    "get_tree(X_train, X_validate, y_train, y_validate)"
   ]
  },
  {
   "cell_type": "markdown",
   "id": "completed-pottery",
   "metadata": {},
   "source": [
    "* Decision Tree outperformed the baseline by about 3%."
   ]
  },
  {
   "cell_type": "markdown",
   "id": "persistent-algorithm",
   "metadata": {},
   "source": [
    "## KNN"
   ]
  },
  {
   "cell_type": "code",
   "execution_count": 42,
   "id": "suspected-variety",
   "metadata": {},
   "outputs": [],
   "source": [
    "def get_knn(X_train, X_validate, y_train, y_validate):\n",
    "    '''get KNN accuracy on train and validate data'''\n",
    "\n",
    "    # create model object and fit it to the training data\n",
    "    knn = KNeighborsClassifier(n_neighbors=20, weights='uniform')\n",
    "    knn.fit(X_train, y_train)\n",
    "\n",
    "    # print results\n",
    "    print(f\"Accuracy of KNN on train is {knn.score(X_train, y_train)}\")\n",
    "    print(f\"Accuracy of KNN on validate is {knn.score(X_validate, y_validate)}\")"
   ]
  },
  {
   "cell_type": "code",
   "execution_count": 43,
   "id": "8310d665",
   "metadata": {},
   "outputs": [
    {
     "name": "stdout",
     "output_type": "stream",
     "text": [
      "Accuracy of KNN on train is 0.7815384615384615\n",
      "Accuracy of KNN on validate is 0.7487579843860894\n"
     ]
    }
   ],
   "source": [
    "get_knn(X_train, X_validate, y_train, y_validate)"
   ]
  },
  {
   "cell_type": "markdown",
   "id": "blank-station",
   "metadata": {},
   "source": [
    "* Logistic regression outperformed baseline by about 5% on train, but only about 1% on validate.\n"
   ]
  },
  {
   "cell_type": "markdown",
   "id": "balanced-india",
   "metadata": {},
   "source": [
    "## Logistic Regression"
   ]
  },
  {
   "cell_type": "code",
   "execution_count": 44,
   "id": "corporate-hanging",
   "metadata": {},
   "outputs": [],
   "source": [
    "def get_reg(X_train, X_validate, y_train, y_validate):\n",
    "    '''get logistic regression accuracy on train and validate data'''\n",
    "\n",
    "    # create model object and fit it to the training data\n",
    "    logit = LogisticRegression(solver='liblinear')\n",
    "    logit.fit(X_train, y_train)\n",
    "\n",
    "    # print result\n",
    "    print(f\"Accuracy of Logistic Regression on train is {logit.score(X_train, y_train)}\")\n",
    "    print(f\"Accuracy of Logistic Regression on validate is {logit.score(X_validate, y_validate)}\")"
   ]
  },
  {
   "cell_type": "code",
   "execution_count": 45,
   "id": "1f6bd44d",
   "metadata": {},
   "outputs": [
    {
     "name": "stdout",
     "output_type": "stream",
     "text": [
      "Accuracy of Logistic Regression on train is 0.7623668639053255\n",
      "Accuracy of Logistic Regression on validate is 0.7601135557132718\n"
     ]
    }
   ],
   "source": [
    "get_reg(X_train, X_validate, y_train, y_validate)"
   ]
  },
  {
   "cell_type": "markdown",
   "id": "harmful-jewel",
   "metadata": {},
   "source": [
    "* Logistic regression outperformed baseline by about 3% for both train and validate."
   ]
  },
  {
   "cell_type": "markdown",
   "id": "ruled-denmark",
   "metadata": {},
   "source": [
    "# Comparing Models\n",
    "\n",
    "* Decision Tree, Random Forest, and Logistic Regression models all performed about equal to baseline on train and validate\n",
    "* The KNN model performed slightly better on train data but was worse on validate data. It is likely overfit.\n",
    "* Because the results of the Decision Tree, Random Forest, and Logistic Regression models were all very similar I could proceed to test with any of these models.\n",
    "* I have chosen to move forward with the Logistic Regression model"
   ]
  },
  {
   "cell_type": "markdown",
   "id": "vocal-screen",
   "metadata": {},
   "source": [
    "## Logistic Regression on Test"
   ]
  },
  {
   "cell_type": "code",
   "execution_count": 47,
   "id": "58a8110f",
   "metadata": {},
   "outputs": [],
   "source": [
    "def get_reg_test(X_train, X_test, y_train, y_test):\n",
    "    '''get logistic regression accuracy on train and validate data'''\n",
    "\n",
    "    # create model object and fit it to the training data\n",
    "    logit = LogisticRegression(solver='liblinear')\n",
    "    logit.fit(X_train, y_train)\n",
    "\n",
    "    # print result\n",
    "    print(f\"Accuracy of Logistic Regression on test is {logit.score(X_test, y_test)}\")"
   ]
  },
  {
   "cell_type": "code",
   "execution_count": 49,
   "id": "parliamentary-genetics",
   "metadata": {},
   "outputs": [
    {
     "name": "stdout",
     "output_type": "stream",
     "text": [
      "Accuracy of Logistic Regression on test is 0.7750177430801988\n"
     ]
    }
   ],
   "source": [
    "# get test results for final model\n",
    "get_reg_test(X_train, X_test, y_train, y_test)"
   ]
  },
  {
   "cell_type": "markdown",
   "id": "ideal-wallace",
   "metadata": {},
   "source": [
    "### Modeling Summary\n",
    "\n",
    "* The KNN model performed the best on the training set, but worst on the validate set.\n",
    "* Decision Tree model and Logistic Regression model performed similarly, both about 3% higher than baseline.\n",
    "* A Logistic Regression model selected as the final model as the difference between train performance and validate performance was lowest."
   ]
  },
  {
   "cell_type": "markdown",
   "id": "random-initial",
   "metadata": {},
   "source": [
    "# Conclusions\n",
    "\n",
    "### Exploration\n",
    "\n",
    "* Upsets in chess occur in about 1/3 of games\n",
    "* Games in which the lower rated player makes the first move, and games that are rated have a slightly higher chance of ending in an upset \n",
    "* Games ending in upset have a much lower mean difference in player rating than games not ending in upset\n",
    "* Games using shorter time control, such as Bullet, Blitz, and Rapid games, have an upset percentage that closely mirrors the overall upset percentage ranging from 30-34% while standard games have a much lower upset percentage at 22%\n",
    "* Looking at the top 10 openings in terms of frequency in the data set we can conclude that a given opening does affect the likelihood of a game ending in an upset. Upset percentages very by opening from 20-39%\n",
    "* The average rating of players in a game has no provable effect on the chance of that game ending in upset"
   ]
  },
  {
   "cell_type": "markdown",
   "id": "romantic-oriental",
   "metadata": {},
   "source": [
    "### Modeling\n",
    "\n",
    "**The final model only outperformed baseline by ~3%. Possible reason:**\n",
    "* In an effort to maximize interpretability and inform business strategy only the features that could be most easily targetted through business intervention were included. Because of this only a few features were included.\n",
    "\n",
    "### Recommendations\n",
    "\n",
    "* Include tech support for all Fiber optic customers.\n",
    "* Encourage customers to enroll in automatic payments. (i.e. rebate for enrollment)\n",
    "\n",
    "### Next Steps\n",
    "* Prescriptive Model: Identify the features that would be easiest for the business to take action. Then create a model using those features to find where executives can focus to lower churn rate.\n",
    "* Predictive Model: further EDA to find significant relationships for all potential features. Then create a model using all of the significant features."
   ]
  }
 ],
 "metadata": {
  "kernelspec": {
   "display_name": "Python 3",
   "language": "python",
   "name": "python3"
  },
  "language_info": {
   "codemirror_mode": {
    "name": "ipython",
    "version": 3
   },
   "file_extension": ".py",
   "mimetype": "text/x-python",
   "name": "python",
   "nbconvert_exporter": "python",
   "pygments_lexer": "ipython3",
   "version": "3.11.3"
  }
 },
 "nbformat": 4,
 "nbformat_minor": 5
}
