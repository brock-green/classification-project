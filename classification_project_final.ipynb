{
 "cells": [
  {
   "cell_type": "markdown",
   "id": "passive-collect",
   "metadata": {},
   "source": [
    "# Telco Churn:\n",
    "<hr style=\"border:2px solid black\">"
   ]
  },
  {
   "cell_type": "markdown",
   "id": "typical-anime",
   "metadata": {},
   "source": [
    "## Goal: \n",
    "* Discover drivers of churn at the TelcoCo telecommunications firm\n",
    "* Use drivers to develop a machine learning model to predict customer churn\n",
    "<hr style=\"border:2px solid black\">"
   ]
  },
  {
   "cell_type": "markdown",
   "id": "recognized-insertion",
   "metadata": {},
   "source": [
    "# Imports"
   ]
  },
  {
   "cell_type": "code",
   "execution_count": 372,
   "id": "following-steam",
   "metadata": {},
   "outputs": [],
   "source": [
    "# Standard ds imports:\n",
    "import pandas as pd\n",
    "import numpy as np\n",
    "\n",
    "# Viz\n",
    "import matplotlib.pyplot as plt\n",
    "import seaborn as sns\n",
    "\n",
    "# Statistics\n",
    "from scipy import stats\n",
    "\n",
    "import warnings\n",
    "warnings.filterwarnings(\"ignore\")\n",
    "\n",
    "# Custom Modules\n",
    "import os\n",
    "import env\n",
    "import acquire\n",
    "import prepare\n",
    "import explore\n",
    "import model"
   ]
  },
  {
   "cell_type": "markdown",
   "id": "further-swimming",
   "metadata": {},
   "source": [
    "<hr style=\"border:2px solid black\">\n",
    "\n",
    "# **Acquire**\n",
    "Plan --> **Acquire** --> Prepare --> Explore --> Model --> Deliver\n",
    "\n",
    "* Data acquired from 'telco_churn'\n",
    "* It contained 7,043 rows and 24 columns before cleaning\n",
    "* Each row represents a single customer\n",
    "* Each column represents a feature of the customer account"
   ]
  },
  {
   "cell_type": "code",
   "execution_count": 373,
   "id": "d421d5ae",
   "metadata": {},
   "outputs": [],
   "source": [
    "# acquiring data using acquire.get_telco_data()\n",
    "df = acquire.get_telco_data()"
   ]
  },
  {
   "cell_type": "markdown",
   "id": "strategic-steering",
   "metadata": {},
   "source": [
    "<hr style=\"border:2px solid black\">\n",
    "\n",
    "# **Prepare**\n",
    "\n",
    "**Prepare Actions:**\n",
    "* Removed columns with duplicate information\n",
    "* Checked for nulls in the data (internet_service_type) and imputed for \"No Internet Service\"\n",
    "* Changed dtype for 'total_charges' to float\n",
    "* Reorganized 'payment_type' into values='Auto' and 'Manual'\n",
    "* Encoded categorical variables\n",
    "* Split data into train, validate and test (approx. 60/20/20), stratifying on 'churn'"
   ]
  },
  {
   "cell_type": "code",
   "execution_count": 374,
   "id": "pressing-legislation",
   "metadata": {
    "scrolled": false
   },
   "outputs": [],
   "source": [
    "# Clean data and split into train, validate, test with prepare.prep_telco()\n",
    "train, validate, test = prepare.prep_telco(df)"
   ]
  },
  {
   "cell_type": "markdown",
   "id": "local-paper",
   "metadata": {},
   "source": [
    "<hr style=\"border:2px solid black\">\n",
    "\n",
    "# **Explore**\n",
    "Plan --> Acquire --> Prepare --> **Explore** --> Model --> Deliver"
   ]
  },
  {
   "cell_type": "code",
   "execution_count": 375,
   "id": "8292ce76",
   "metadata": {},
   "outputs": [
    {
     "data": {
      "image/png": "[encoded data removed]",
      "text/plain": [
       "<Figure size 640x480 with 1 Axes>"
      ]
     },
     "metadata": {},
     "output_type": "display_data"
    }
   ],
   "source": [
    "#### Show distribution of Target Variable 'churn'\n",
    "\n",
    "# set target = 'churn'\n",
    "target = 'churn'\n",
    "# create countplot of churn for train data\n",
    "sns.countplot(data=train, x=target)\n",
    "plt.ylabel('Count')\n",
    "plt.xlabel('Churn')\n",
    "plt.title(f'Distribution of Churn')\n",
    "plt.show()"
   ]
  },
  {
   "cell_type": "markdown",
   "id": "wound-gothic",
   "metadata": {},
   "source": [
    "> ### <u>Are monthly charges higher for customers who churn?</u>"
   ]
  },
  {
   "cell_type": "code",
   "execution_count": 376,
   "id": "03cdcfbf",
   "metadata": {},
   "outputs": [],
   "source": [
    "# Create a Swarm Plot of Churn and Monthly Charges\n",
    "#explore.get_swarmplot(train)"
   ]
  },
  {
   "cell_type": "markdown",
   "id": "geographic-nursing",
   "metadata": {},
   "source": [
    ">* It looks like there is a higher concentration of churned customers when monthly charges exceed ~$70. "
   ]
  },
  {
   "cell_type": "markdown",
   "id": "19171725",
   "metadata": {},
   "source": [
    "<div style=\"background-color: #A9CCE3; box-shadow: 0 0 0 1px black; padding: 5px;\">\n",
    "\n",
    "**I will now use a 1 sample, 1 tail, T-test to investigate whether the mean of monthly charges of churned customers is significantly larger than the mean monthly charges for all customers.**\n",
    "\n",
    "* I will use a confidence interval of 95% \n",
    "* The resulting alpha is .05<br>\n",
    "\n",
    "**H0: Mean of monthly charges of churned customers <= Mean of monthly charges of all customers.**<br>\n",
    "**Ha: Mean of monthly charges of churned customers > Mean of monthly charges of all customers.**\n",
    "</div>"
   ]
  },
  {
   "cell_type": "code",
   "execution_count": 377,
   "id": "presidential-guarantee",
   "metadata": {},
   "outputs": [
    {
     "name": "stdout",
     "output_type": "stream",
     "text": [
      "12.86165366693209 1.0358740694591168e-35 0.05\n",
      "We reject the null hypothesis.\n"
     ]
    }
   ],
   "source": [
    "#### 1 sample 1 tail T-Test\n",
    "\n",
    "alpha = 0.05\n",
    "# an array of all observed values of the subgroup\n",
    "churn_sample = train[train.churn == 'Yes'].monthly_charges\n",
    "\n",
    "# the population mean\n",
    "overall_mean = train.monthly_charges.mean()\n",
    "\n",
    "t, p = stats.ttest_1samp(churn_sample, overall_mean)\n",
    "\n",
    "print(t, p/2, alpha)\n",
    "\n",
    "if p/2 > alpha:\n",
    "    print(\"We fail to reject the null hypothesis.\")\n",
    "elif t < 0:\n",
    "    print(\"We fail to reject null hypothesis.\")\n",
    "else:\n",
    "    print(\"We reject the null hypothesis.\")"
   ]
  },
  {
   "cell_type": "markdown",
   "id": "cognitive-brook",
   "metadata": {},
   "source": [
    "<div style=\"background-color: #A9CCE3; box-shadow: 0 0 0 1px black; padding: 5px;\">\n",
    "\n",
    "**The alpha is less than p/2. Therefore, we have evidence to support that \"Monthly Charges\" and \"Churn\" are related. We will use monthly charges as a feature of our models.**\n",
    "</div>"
   ]
  },
  {
   "cell_type": "markdown",
   "id": "environmental-longitude",
   "metadata": {},
   "source": [
    ">### <u>Is customer churn independent of contract type?</u>"
   ]
  },
  {
   "cell_type": "code",
   "execution_count": 378,
   "id": "48461484",
   "metadata": {},
   "outputs": [
    {
     "data": {
      "image/png": "[encoded data removed]",
      "text/plain": [
       "<Figure size 640x480 with 1 Axes>"
      ]
     },
     "metadata": {},
     "output_type": "display_data"
    }
   ],
   "source": [
    "# Create countplot of Churn by Contract Type\n",
    "explore.get_countplot_contract_type(train)"
   ]
  },
  {
   "cell_type": "markdown",
   "id": "2e17e694",
   "metadata": {},
   "source": [
    ">* Churn was significant for Month-to-Month with churn count being higher than the total of one year contracts."
   ]
  },
  {
   "cell_type": "markdown",
   "id": "c3867c3a",
   "metadata": {},
   "source": [
    "<div style=\"background-color: #A9CCE3; box-shadow: 0 0 0 1px black; padding: 5px;\">\n",
    "\n",
    "**I will now use a chi-square test to investigate whether \"Contract Type\" and \"Churn\" are related.**\n",
    "* I will use a confidence interval of 95% \n",
    "* The resulting alpha is .05<br>\n",
    "\n",
    "**H0: Customer churn rate is independent of the contract type.** <br>\n",
    "**Ha: Customer churn rate has a dependent relationship to contract type.**\n",
    "</div>"
   ]
  },
  {
   "cell_type": "code",
   "execution_count": 379,
   "id": "79ca41c3",
   "metadata": {},
   "outputs": [
    {
     "name": "stdout",
     "output_type": "stream",
     "text": [
      "p-value: 1.6908454939135029e-152\n",
      "We reject the null hypothesis.\n",
      "There exists some relationship between Contract Type and the churn.\n"
     ]
    }
   ],
   "source": [
    "#### Chi-square Test\n",
    "\n",
    "# Crosstab of contract_type and churn\n",
    "observed = pd.crosstab(train['contract_type'], train['churn'])\n",
    "# Get test statistics for chi-square\n",
    "chi2, p, degf, expected = stats.chi2_contingency(observed)\n",
    "# Assess for statistical significance\n",
    "if p < alpha:\n",
    "    print(f'p-value: {p}')\n",
    "    print(f'We reject the null hypothesis.')\n",
    "    print(f'There exists some relationship between Contract Type and the churn.')\n",
    "else:\n",
    "    print(f'p-value: {p}')\n",
    "    print(f'We fail to reject the null hypothesis.')\n",
    "    print(f'There is not a significant relationship between Contract Type and churn.')"
   ]
  },
  {
   "cell_type": "markdown",
   "id": "90700ecd",
   "metadata": {},
   "source": [
    "<div style=\"background-color: #A9CCE3; box-shadow: 0 0 0 1px black; padding: 5px;\">\n",
    "\n",
    "**The p-value is less than the alpha. Therefore, we have evidence to support that \"Contract Type\" and \"Churn\" are related. I believe that using the \"Contract Type\" feature in modeling will likely have a positive impact on the model's accuracy.**\n",
    "</div>"
   ]
  },
  {
   "cell_type": "markdown",
   "id": "83a9b878",
   "metadata": {},
   "source": [
    ">### <u>Is whether or not a customer churns independent of if they have automatic or manual payments?</u>"
   ]
  },
  {
   "cell_type": "code",
   "execution_count": 380,
   "id": "26ece6f4",
   "metadata": {},
   "outputs": [
    {
     "data": {
      "image/png": "[encoded data removed]",
      "text/plain": [
       "<Figure size 640x480 with 1 Axes>"
      ]
     },
     "metadata": {},
     "output_type": "display_data"
    }
   ],
   "source": [
    "# Countplot of Churn for Auto and Manual payments\n",
    "explore.get_countplot_pmnt(train)"
   ]
  },
  {
   "cell_type": "markdown",
   "id": "a5e4b94d",
   "metadata": {},
   "source": [
    ">* It looks like customers with manual payments churn more often than those with automatic."
   ]
  },
  {
   "cell_type": "markdown",
   "id": "240bd148",
   "metadata": {},
   "source": [
    "<div style=\"background-color: #A9CCE3; box-shadow: 0 0 0 1px black; padding: 5px;\">\n",
    "\n",
    "**I will now do a chi-square test to test for independence between payment type and Churn.**\n",
    "\n",
    "* I will use a confidence interval of 95%\n",
    "* The resulting alpha is .05\n",
    "\n",
    "**H0: Customer churn rate is independent of the payment type.** <br>\n",
    "**Ha: Customer churn rate has a dependent relationship to payment type.**\n",
    "</div>"
   ]
  },
  {
   "cell_type": "code",
   "execution_count": 381,
   "id": "2f77644c",
   "metadata": {},
   "outputs": [
    {
     "name": "stdout",
     "output_type": "stream",
     "text": [
      "p-value: 4.1493459283183755e-40\n",
      "We reject the null hypothesis.\n",
      "There exists some relationship between payment type and churn.\n"
     ]
    }
   ],
   "source": [
    "#### Chi-square Test\n",
    "\n",
    "# Crosstab of payment type and churn\n",
    "observed = pd.crosstab(train['mapped_payment_type'], train['churn'])\n",
    "# Get test statistics for chi-square\n",
    "chi2, p, degf, expected = stats.chi2_contingency(observed)\n",
    "# Assess for statistical significance\n",
    "if p < alpha:\n",
    "    print(f'p-value: {p}')\n",
    "    print(f'We reject the null hypothesis.')\n",
    "    print(f'There exists some relationship between payment type and churn.')\n",
    "else:\n",
    "    print(f'p-value: {p}')\n",
    "    print(f'We fail to reject the null hypothesis.')\n",
    "    print(f'There is not a significant relationship between payment type and churn.')"
   ]
  },
  {
   "cell_type": "markdown",
   "id": "5218bee7",
   "metadata": {},
   "source": [
    "<div style=\"background-color: #A9CCE3; box-shadow: 0 0 0 1px black; padding: 5px;\">\n",
    "\n",
    "**The p-value is less than the alpha. Therefore, we have evidence to support that \"Payment Type\" and \"Churn\" are related. I believe that using the \"Payment Type\" feature in modeling will likely have a positive impact on the model's accuracy.**\n",
    "</div>"
   ]
  },
  {
   "cell_type": "markdown",
   "id": "497e94a0",
   "metadata": {},
   "source": [
    ">### <u>Is customer churn independent of internet service type?</u>"
   ]
  },
  {
   "cell_type": "code",
   "execution_count": 382,
   "id": "aa3fe70b",
   "metadata": {},
   "outputs": [
    {
     "data": {
      "image/png": "[encoded data removed]",
      "text/plain": [
       "<Figure size 640x480 with 1 Axes>"
      ]
     },
     "metadata": {},
     "output_type": "display_data"
    }
   ],
   "source": [
    "# Create countplot of Churn by Internet Service Type\n",
    "explore.get_countplot_IST(train)"
   ]
  },
  {
   "cell_type": "markdown",
   "id": "going-bulgaria",
   "metadata": {},
   "source": [
    ">* Fiber Optic has the highest rate of churn with ~42% of customers churning, while customers that have only phone service have the lowest rate of churn ~7.5%."
   ]
  },
  {
   "cell_type": "markdown",
   "id": "third-presence",
   "metadata": {},
   "source": [
    "<div style=\"background-color: #A9CCE3; box-shadow: 0 0 0 1px black; padding: 5px;\">\n",
    "\n",
    "**I will now use a chi-square test to investigate weather \"Internet Service Type\" and \"Churn\" are related.**\n",
    "* I will use a confidence interval of 95% \n",
    "* The resulting alpha is .05<br>\n",
    "\n",
    "**H0: Customer churn rate is independent of the internet service type.** <br>\n",
    "**Ha: Customer churn rate has a dependent relationship to internet service type.**\n",
    "</div>"
   ]
  },
  {
   "cell_type": "code",
   "execution_count": 383,
   "id": "dangerous-groove",
   "metadata": {},
   "outputs": [
    {
     "name": "stdout",
     "output_type": "stream",
     "text": [
      "p-value: 1.1586538084825805e-96\n",
      "We reject the null hypothesis.\n",
      "There exists some relationship between Internet Service Type and the churn.\n"
     ]
    }
   ],
   "source": [
    "#### Chi-square Test\n",
    "\n",
    "# Crosstab of internet_service_type and churn\n",
    "observed = pd.crosstab(train['internet_service_type'], train['churn'])\n",
    "# Get test statistics for chi-square\n",
    "chi2, p, degf, expected = stats.chi2_contingency(observed)\n",
    "# Assess for statistical significance\n",
    "if p < alpha:\n",
    "    print(f'p-value: {p}')\n",
    "    print(f'We reject the null hypothesis.')\n",
    "    print(f'There exists some relationship between Internet Service Type and the churn.')\n",
    "else:\n",
    "    print(f'p-value: {p}')\n",
    "    print(f'We fail to reject the null hypothesis.')\n",
    "    print(f'There is not a significant relationship between Internet Service Type and churn.')"
   ]
  },
  {
   "cell_type": "markdown",
   "id": "fuzzy-tsunami",
   "metadata": {},
   "source": [
    "<div style=\"background-color: #A9CCE3; box-shadow: 0 0 0 1px black; padding: 5px;\">\n",
    "\n",
    "**The p-value is less than the alpha. Therefore, we have evidence to support that \"Internet Service Type\" and \"Churn\" are related. I believe that using the \"Internet Service Type\" feature in modeling will likely have a positive impact on the model's accuracy.**\n",
    "</div>"
   ]
  },
  {
   "cell_type": "markdown",
   "id": "agreed-finance",
   "metadata": {},
   "source": [
    ">### <u>For fiber optic customers does the addition of tech support change churn rate?</u>\n"
   ]
  },
  {
   "cell_type": "code",
   "execution_count": 384,
   "id": "4f70e9ef",
   "metadata": {},
   "outputs": [
    {
     "data": {
      "image/png": "[encoded data removed]",
      "text/plain": [
       "<Figure size 640x480 with 1 Axes>"
      ]
     },
     "metadata": {},
     "output_type": "display_data"
    }
   ],
   "source": [
    "# Create countplot of churn by tech support for subset of Fiber Optic customers get_countplot_fiber_techsupport()\n",
    "explore.get_countplot_fiber_techsupport(train)"
   ]
  },
  {
   "cell_type": "markdown",
   "id": "hispanic-publicity",
   "metadata": {},
   "source": [
    ">* Fiber optic customers without tech support churn roughly half the time. However, for Fiber optic customers with tech support only about 1/4 churn."
   ]
  },
  {
   "cell_type": "markdown",
   "id": "incomplete-sentence",
   "metadata": {},
   "source": [
    "<div style=\"background-color: #A9CCE3; box-shadow: 0 0 0 1px black; padding: 5px;\">\n",
    "\n",
    "**I will now do a chi-square test to test for independence between tech support and churn for fiber optic customers.**\n",
    "\n",
    "* I will use a confidence interval of 95%\n",
    "* The resulting alpha is .05\n",
    "\n",
    "**H0: Fiber optic customer churn is independent of tech support.** <br>\n",
    "**Ha: Fiber optic customer churn is dependent on tech support.**\n",
    "</div>"
   ]
  },
  {
   "cell_type": "code",
   "execution_count": 385,
   "id": "national-computer",
   "metadata": {},
   "outputs": [
    {
     "name": "stdout",
     "output_type": "stream",
     "text": [
      "p-value: 6.625286470594788e-24\n",
      "We reject the null hypothesis.\n",
      "There exists some relationship between tech support and the churn.\n"
     ]
    }
   ],
   "source": [
    "#### Chi-square test\n",
    "\n",
    "# Create subset for Fiber Optic customers\n",
    "fiber_subset = train[train['internet_service_type'] == 'Fiber optic']\n",
    "# Create crosstab for tech support and churn of fiber optic customers\n",
    "observed = pd.crosstab(fiber_subset.churn, fiber_subset.tech_support)\n",
    "# Get test statistics\n",
    "chi2, p, degf, expected = stats.chi2_contingency(observed)\n",
    "# Assess for statistical significance\n",
    "if p < alpha:\n",
    "    print(f'p-value: {p}')\n",
    "    print(f'We reject the null hypothesis.')\n",
    "    print(f'There exists some relationship between tech support and the churn.')\n",
    "else:\n",
    "    print(f'p-value: {p}')\n",
    "    print(f'We fail to reject the null hypothesis.')\n",
    "    print(f'There is not a significant relationship between tech support and churn.')"
   ]
  },
  {
   "cell_type": "markdown",
   "id": "nervous-hammer",
   "metadata": {},
   "source": [
    "<div style=\"background-color: #A9CCE3; box-shadow: 0 0 0 1px black; padding: 5px;\">\n",
    "\n",
    "**The p-value is less than the alpha. Therefore, we have evidence to support that churn rate for Fiber optic customers with tech support is significantly different than the churn rate for Fiber optic customers without tech support. Based on this, I believe that using \"tech support\" during modeling will provide an improvement in the model's accuracy.** \n",
    "</div>"
   ]
  },
  {
   "cell_type": "markdown",
   "id": "still-industry",
   "metadata": {},
   "source": [
    "## Exploration Summary\n",
    "\n",
    "<u><b>Drivers of Churn:</b></u>\n",
    "* Monthly Charges (Especially above $70)\n",
    "* Contract Type (M-M)\n",
    "* Payment Type (Manual)\n",
    "* Internet Service Type (Fiber Optic)\n",
    "* Tech Support (For Fiber Optic customers)\n",
    "<br>\n",
    "\n",
    "## Features I am moving to modeling with\n",
    "* Monthly Charges\n",
    "* Contract Type\n",
    "* Payment Type(Auto v Manual)\n",
    "* Internet Service Type\n",
    "* Tech Support"
   ]
  },
  {
   "cell_type": "code",
   "execution_count": 386,
   "id": "93064b29",
   "metadata": {},
   "outputs": [],
   "source": [
    "features1 = ['monthly_charges', 'contract_type_One year', 'contract_type_Two year',\n",
    "       'tech_support_No internet service', 'tech_support_Yes',\n",
    "       'internet_service_type_Fiber optic',\n",
    "       'internet_service_type_No Internet Service',\n",
    "       'mapped_payment_type_Manual']"
   ]
  },
  {
   "cell_type": "markdown",
   "id": "sonic-halifax",
   "metadata": {},
   "source": [
    "<hr style=\"border:2px solid black\">\n",
    "\n",
    "# **Modeling**\n",
    "Plan --> Acquire --> Prepare --> Explore --> **Model** --> Deliver\n",
    "* I will use accuracy as my evaluation metric  \n",
    "* non-churns makeup 73.47% of the training data \n",
    " <br>\n",
    "* by guessing \"No\" for 'churn' for every customer one could achieve an accuracy of 73.47%\n",
    "* 73.47%% will be the baseline accuracy I use for this project\n",
    " <br>\n",
    "* I will be evaluating models developed using three different model types and various hyperparameter configurations \n",
    "* Models will be evaluated on train and validate data\n",
    "* The model that performs the best will then be evaluated on test data "
   ]
  },
  {
   "cell_type": "code",
   "execution_count": 387,
   "id": "varied-grant",
   "metadata": {},
   "outputs": [],
   "source": [
    "# Split train, validate, test for X and y\n",
    "\n",
    "target = 'churn'\n",
    "# Train\n",
    "X_train, y_train = \\\n",
    "train[features1], \\\n",
    "train[target]\n",
    "# Validate\n",
    "X_validate, y_validate = \\\n",
    "validate[features1], \\\n",
    "validate[target]\n",
    "# Test\n",
    "X_test, y_test = \\\n",
    "test[features1], \\\n",
    "test[target]"
   ]
  },
  {
   "cell_type": "markdown",
   "id": "median-ceramic",
   "metadata": {},
   "source": [
    "## <u>Decision Tree:<u>"
   ]
  },
  {
   "cell_type": "code",
   "execution_count": 388,
   "id": "5419f612",
   "metadata": {},
   "outputs": [
    {
     "data": {
      "text/plain": [
       "\"\\nscores_all = []\\n\\nfor x in range(1,20):\\n\\n    clf = DecisionTreeClassifier(max_depth=x, random_state=666)\\n    clf.fit(X_train, y_train)\\n    \\n    # evaluate on train\\n    train_acc = clf.score(X_train, y_train)\\n    \\n    #evaluate on validate\\n    val_acc = clf.score(X_validate, y_validate)\\n    \\n    scores_all.append([x, train_acc, val_acc])\\n    \\nscores_df = pd.DataFrame(scores_all, columns=['max_depth','train_acc','val_acc'])\\nscores_df = pd.DataFrame(scores_all, columns=['max_depth','train_acc','val_acc'])\\nscores_df.sort_values(by=['val_acc'], ascending=False).head()\\n\""
      ]
     },
     "execution_count": 388,
     "metadata": {},
     "output_type": "execute_result"
    }
   ],
   "source": [
    "##### The below code was used to tune our max_depth hyperparameter by creating multiple models at max_depth=x\n",
    "#### A max_depth=5 was found to be the best DT model\n",
    "'''\n",
    "scores_all = []\n",
    "\n",
    "for x in range(1,20):\n",
    "\n",
    "    clf = DecisionTreeClassifier(max_depth=x, random_state=666)\n",
    "    clf.fit(X_train, y_train)\n",
    "    \n",
    "    # evaluate on train\n",
    "    train_acc = clf.score(X_train, y_train)\n",
    "    \n",
    "    #evaluate on validate\n",
    "    val_acc = clf.score(X_validate, y_validate)\n",
    "    \n",
    "    scores_all.append([x, train_acc, val_acc])\n",
    "    \n",
    "scores_df = pd.DataFrame(scores_all, columns=['max_depth','train_acc','val_acc'])\n",
    "scores_df = pd.DataFrame(scores_all, columns=['max_depth','train_acc','val_acc'])\n",
    "scores_df.sort_values(by=['val_acc'], ascending=False).head()\n",
    "'''"
   ]
  },
  {
   "cell_type": "code",
   "execution_count": 389,
   "id": "74e5a789",
   "metadata": {},
   "outputs": [
    {
     "name": "stdout",
     "output_type": "stream",
     "text": [
      "Accuracy of Decision Tree on train data is  77.85%\n",
      "Accuracy of Decision Tree on validate data is  77.57%\n"
     ]
    }
   ],
   "source": [
    "# Create & fit Decision Tree Model on train data and score for train and validate sets\n",
    "# Best DT model maxdepth=5\n",
    "model.get_tree(X_train, X_validate, y_train, y_validate)"
   ]
  },
  {
   "cell_type": "markdown",
   "id": "completed-pottery",
   "metadata": {},
   "source": [
    ">* Decision Tree outperformed the baseline by about 4% on both train and validate."
   ]
  },
  {
   "cell_type": "markdown",
   "id": "persistent-algorithm",
   "metadata": {},
   "source": [
    "## <u>KNN:<u>"
   ]
  },
  {
   "cell_type": "code",
   "execution_count": 390,
   "id": "e0a076fc",
   "metadata": {},
   "outputs": [
    {
     "data": {
      "text/plain": [
       "'\\nfor n in [5, 10, 20]:\\n    knn = KNeighborsClassifier(n_neighbors=n)\\n    \\n    knn.fit(X_train, y_train)\\n    \\n    y_preds = knn.predict(X_train)\\n'"
      ]
     },
     "execution_count": 390,
     "metadata": {},
     "output_type": "execute_result"
    }
   ],
   "source": [
    "#### The below code was used to tune our n_neighbors hyperparameter by creating multiple models with a loop at n_neighbors=[5,10,20]\n",
    "#### Best KNN model n_neighbors=5\n",
    "'''\n",
    "for n in [5, 10, 20]:\n",
    "    knn = KNeighborsClassifier(n_neighbors=n)\n",
    "    \n",
    "    knn.fit(X_train, y_train)\n",
    "    \n",
    "    y_preds = knn.predict(X_train)\n",
    "'''"
   ]
  },
  {
   "cell_type": "code",
   "execution_count": 391,
   "id": "6c99ac70",
   "metadata": {},
   "outputs": [
    {
     "name": "stdout",
     "output_type": "stream",
     "text": [
      "Accuracy of KNN on train is  82.51%\n",
      "Accuracy of KNN on validate is  75.66%\n"
     ]
    }
   ],
   "source": [
    "# Create & fit KNN Model on train data and score for train and validate sets\n",
    "# Best KKN Model n_neighbors=5\n",
    "model.get_knn(X_train, X_validate, y_train, y_validate)"
   ]
  },
  {
   "cell_type": "markdown",
   "id": "blank-station",
   "metadata": {},
   "source": [
    ">* KNN outperformed baseline by about 9% on train, but only about 2% on validate.\n"
   ]
  },
  {
   "cell_type": "markdown",
   "id": "balanced-india",
   "metadata": {},
   "source": [
    "## <u>Logistic Regression:<u>"
   ]
  },
  {
   "cell_type": "code",
   "execution_count": 392,
   "id": "4287b8d0",
   "metadata": {},
   "outputs": [
    {
     "name": "stdout",
     "output_type": "stream",
     "text": [
      "Accuracy of Logistic Regression on train is  77.49%\n",
      "Accuracy of Logistic Regression on validate is  78.42%\n"
     ]
    }
   ],
   "source": [
    "# Create & fit Logistic Regression Model on train data and score for train and validate sets\n",
    "model.get_reg(X_train, X_validate, y_train, y_validate)"
   ]
  },
  {
   "cell_type": "markdown",
   "id": "harmful-jewel",
   "metadata": {},
   "source": [
    ">* Logistic regression outperformed baseline by about 4% for train and 5% for validate."
   ]
  },
  {
   "cell_type": "markdown",
   "id": "ruled-denmark",
   "metadata": {},
   "source": [
    "<hr style=\"border:2px solid black\">\n",
    "\n",
    "# **Comparing Models**\n",
    "\n",
    ">* Decision Tree, KNN, and Logistic Regression all performed marginally better than baseline for both train and validate.\n",
    ">* The KNN model performed better than the other models on train data but was worse on validate data. It is likely overfit.\n",
    ">* I have chosen to move forward with the Logistic Regression model as it slightly outperforms the DT on validate."
   ]
  },
  {
   "cell_type": "markdown",
   "id": "vocal-screen",
   "metadata": {},
   "source": [
    "<hr style=\"border:2px solid black\">\n",
    "\n",
    "## **Logistic Regression on Test**"
   ]
  },
  {
   "cell_type": "code",
   "execution_count": 393,
   "id": "2794dd17",
   "metadata": {},
   "outputs": [
    {
     "name": "stdout",
     "output_type": "stream",
     "text": [
      "Accuracy of Logistic Regression on test is  77.29%\n"
     ]
    }
   ],
   "source": [
    "# Create & fit Logistic Regression Model on train data and score for test set\n",
    "model.get_reg_test(X_train, X_test, y_train, y_test)"
   ]
  },
  {
   "cell_type": "markdown",
   "id": "3272ece8",
   "metadata": {},
   "source": [
    ">* Logistic regression outperformed baseline by about 4% on test."
   ]
  },
  {
   "cell_type": "markdown",
   "id": "ideal-wallace",
   "metadata": {},
   "source": [
    "### <u>Modeling Summary:</u>\n",
    "\n",
    ">* The KNN model performed the best on the training set, but worst on the validate set.\n",
    ">* Decision Tree model and Logistic Regression model performed similarly, both about 4% higher than baseline.\n",
    ">* A Logistic Regression model selected as the final model as the difference between train performance and validate performance was lowest."
   ]
  },
  {
   "cell_type": "markdown",
   "id": "random-initial",
   "metadata": {},
   "source": [
    "<hr style=\"border:2px solid black\">\n",
    "\n",
    "# **Conclusions**\n"
   ]
  },
  {
   "cell_type": "markdown",
   "id": "romantic-oriental",
   "metadata": {},
   "source": [
    "### <u>Modeling:</u>\n",
    "\n",
    ">**<u>The final model only outperformed baseline by 4%. Possible reason:</u>**\n",
    ">* In an effort to maximize interpretability and inform business strategy, only the features that could be most easily targetted through business intervention and found to be statistically significant during EDA were included. Because of this our feature space was quite small.\n",
    "\n",
    "### <u>Recommendations:</u>\n",
    ">* Include tech support for all Fiber optic customers.\n",
    ">* Incentivize customers to enroll in automatic payments. (i.e. rebate for enrollment)\n",
    ">* Incentivize Month-to-Month customers to sign one or two year contracts.\n",
    "\n",
    "### <u>Next Steps:</u>\n",
    ">* Prescriptive Model: Identify the features that would be easiest for the business to take action. Then create a model using those features to find where executives can focus to lower churn rate.\n",
    ">* Predictive Model: further EDA to find significant relationships for all potential features. Then create a model using all of the significant features."
   ]
  },
  {
   "cell_type": "markdown",
   "id": "a25215c2",
   "metadata": {},
   "source": [
    "### <u>Predictions:</u>"
   ]
  },
  {
   "cell_type": "code",
   "execution_count": 394,
   "id": "61904daf",
   "metadata": {},
   "outputs": [],
   "source": [
    "# Create Object\n",
    "logit = LogisticRegression(solver='liblinear')\n",
    "# Fit on Train data\n",
    "logit.fit(X_train, y_train)\n",
    "# Predict on Test data\n",
    "y_pred = logit.predict(X_test)\n",
    "# Predict probability on Test\n",
    "y_pred_proba = logit.predict_proba(X_test)\n",
    "\n",
    "\n",
    "# Create array for probability with only the first class prediction\n",
    "y_pred_proba = y_pred_proba[:, 0]\n",
    "\n",
    "### To change predictions from Yes/No to 1/0.\n",
    "# Create a mapping dictionary\n",
    "mapping = {'No': 0, 'Yes': 1}\n",
    "# Use np.where() to transform\n",
    "y_pred = np.where(np.isin(y_pred, list(mapping.keys())), [mapping[val] for val in y_pred], y_pred)"
   ]
  },
  {
   "cell_type": "code",
   "execution_count": 395,
   "id": "24a0df40",
   "metadata": {},
   "outputs": [],
   "source": [
    "# Create a dictionary to form df\n",
    "data_dict = {\n",
    "    'customer_id': test.customer_id,\n",
    "    'probability of churn': y_pred_proba,\n",
    "    'prediction of churn': y_pred\n",
    "}\n",
    "\n",
    "# Create df\n",
    "combined_data = pd.DataFrame(data_dict)"
   ]
  },
  {
   "cell_type": "code",
   "execution_count": 396,
   "id": "688967db",
   "metadata": {},
   "outputs": [],
   "source": [
    "# write df to csv\n",
    "combined_data.to_csv('predictions.csv')"
   ]
  }
 ],
 "metadata": {
  "kernelspec": {
   "display_name": "Python 3",
   "language": "python",
   "name": "python3"
  },
  "language_info": {
   "codemirror_mode": {
    "name": "ipython",
    "version": 3
   },
   "file_extension": ".py",
   "mimetype": "text/x-python",
   "name": "python",
   "nbconvert_exporter": "python",
   "pygments_lexer": "ipython3",
   "version": "3.11.3"
  }
 },
 "nbformat": 4,
 "nbformat_minor": 5
}
